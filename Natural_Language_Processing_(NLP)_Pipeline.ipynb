{
  "nbformat": 4,
  "nbformat_minor": 0,
  "metadata": {
    "colab": {
      "provenance": [],
      "authorship_tag": "ABX9TyNRsS3Gr1gOWFbThOWjslDJ",
      "include_colab_link": true
    },
    "kernelspec": {
      "name": "python3",
      "display_name": "Python 3"
    },
    "language_info": {
      "name": "python"
    }
  },
  "cells": [
    {
      "cell_type": "markdown",
      "metadata": {
        "id": "view-in-github",
        "colab_type": "text"
      },
      "source": [
        "<a href=\"https://colab.research.google.com/github/Shashikala-s/NLP/blob/main/Natural_Language_Processing_(NLP)_Pipeline.ipynb\" target=\"_parent\"><img src=\"https://colab.research.google.com/assets/colab-badge.svg\" alt=\"Open In Colab\"/></a>"
      ]
    },
    {
      "cell_type": "markdown",
      "source": [
        "**Text Cleaning**"
      ],
      "metadata": {
        "id": "0K--CXxrcTo7"
      }
    },
    {
      "cell_type": "code",
      "execution_count": 9,
      "metadata": {
        "colab": {
          "base_uri": "https://localhost:8080/"
        },
        "id": "UPgMoEGXbq9b",
        "outputId": "063fbfe7-dd79-4654-ea10-564f4fa7b5f8"
      },
      "outputs": [
        {
          "output_type": "stream",
          "name": "stdout",
          "text": [
            "This is a samle text with symbol 😃 \n",
            "b'This is a samle text with symbol \\xf0\\x9f\\x98\\x83 '\n"
          ]
        }
      ],
      "source": [
        "## Unicode Nomalization -convert symbols and emoji to machine readable format\n",
        "text =\"This is a samle text with symbol 😃 \"\n",
        "print(text)\n",
        "encoded=text.encode('utf-8')\n",
        "print(encoded)"
      ]
    },
    {
      "cell_type": "code",
      "source": [
        "#spelling correction  and regex\n",
        "import re\n",
        "text =\"\"\"<gfg> #GFG Geeks Learning together url <https://www.geeksforgeeks.org/>,\n",
        "email <acs@sdf.dv>\n",
        "\"\"\"\n",
        "\n",
        "def clean_text(text):\n",
        "  #remove html tags\n",
        "  html=re.compile('[<,#*?>]')\n",
        "  text=html.sub(r'',text)\n",
        "\n",
        "  url = re.compile('https?://\\S+|www\\.S+')\n",
        "  text = url.sub(r'',text)\n",
        "\n",
        "  # Remove email id:\n",
        "  email = re.compile('[A-Za-z0-2]+@[\\w]+.[\\w]+')\n",
        "  text = email.sub(r'',text)\n",
        "  return text\n",
        "\n",
        "\n",
        "clean_text(text)\n"
      ],
      "metadata": {
        "colab": {
          "base_uri": "https://localhost:8080/",
          "height": 36
        },
        "id": "7Uuvr9AzeQIb",
        "outputId": "6bb9a91a-8a0a-4cf5-b81c-dc26a4ffccef"
      },
      "execution_count": 13,
      "outputs": [
        {
          "output_type": "execute_result",
          "data": {
            "text/plain": [
              "'gfg GFG Geeks Learning together url  \\nemail \\n'"
            ],
            "application/vnd.google.colaboratory.intrinsic+json": {
              "type": "string"
            }
          },
          "metadata": {},
          "execution_count": 13
        }
      ]
    },
    {
      "cell_type": "markdown",
      "source": [
        "**Text Preprocessing**"
      ],
      "metadata": {
        "id": "Ero7t_BPfamN"
      }
    },
    {
      "cell_type": "code",
      "source": [
        "import nltk\n",
        "# nltk.download('punkt_tab')\n",
        "# nltk.download('stopwords')\n",
        "# nltk.download('wordnet')\n",
        "from nltk.tokenize import word_tokenize\n",
        "from nltk.corpus import stopwords\n",
        "from nltk.stem import SnowballStemmer, WordNetLemmatizer\n",
        "from nltk.tag import pos_tag\n",
        "from nltk.chunk import ne_chunk\n",
        "import string\n",
        "\n",
        "text =\"This is a very simple text use for NLP task\"\n",
        "\n",
        "#tokenize\n",
        "tokens=word_tokenize(text)\n",
        "print(tokens)\n",
        "print('\\n')\n",
        "\n",
        "\n",
        "#remove stop words\n",
        "stop_words =set(stopwords.words('english'))\n",
        "# print(stop_words)\n",
        "filtered_tokens=[token for token in tokens if token.lower() not in stop_words]\n",
        "print(filtered_tokens)\n",
        "print('\\n')\n",
        "\n",
        "#stemming and lemmatization\n",
        "stemmer=SnowballStemmer('english')\n",
        "lemmatizer =WordNetLemmatizer()\n",
        "\n",
        "stemmed_tokens=[stemmer.stem(token) for token in filtered_tokens]\n",
        "print(stemmed_tokens)\n",
        "print('\\n')\n",
        "\n",
        "lemmatized_tokens=[lemmatizer.lemmatize(token) for token in filtered_tokens]\n",
        "print(lemmatized_tokens)\n",
        "print('\\n')\n",
        "\n",
        "\n"
      ],
      "metadata": {
        "colab": {
          "base_uri": "https://localhost:8080/"
        },
        "id": "CRGm6LKafeaM",
        "outputId": "283e38ad-fc0e-4af8-ada8-b8e8a91de426"
      },
      "execution_count": 30,
      "outputs": [
        {
          "output_type": "stream",
          "name": "stderr",
          "text": [
            "[nltk_data] Downloading package wordnet to /root/nltk_data...\n"
          ]
        },
        {
          "output_type": "stream",
          "name": "stdout",
          "text": [
            "['This', 'is', 'a', 'very', 'simple', 'text', 'use', 'for', 'NLP', 'task']\n",
            "\n",
            "\n",
            "['simple', 'text', 'use', 'NLP', 'task']\n",
            "\n",
            "\n",
            "['simpl', 'text', 'use', 'nlp', 'task']\n",
            "\n",
            "\n",
            "['simple', 'text', 'use', 'NLP', 'task']\n",
            "\n",
            "\n"
          ]
        }
      ]
    }
  ]
}